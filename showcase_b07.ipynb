{
 "cells": [
  {
   "cell_type": "markdown",
   "id": "bc841e2d-23d1-4764-9b9a-2d40236271d0",
   "metadata": {},
   "source": [
    "# Showcase: B07"
   ]
  },
  {
   "cell_type": "markdown",
   "id": "33ee22aa-7a6c-4e5e-b70b-2051716fe417",
   "metadata": {},
   "source": [
    "---"
   ]
  },
  {
   "cell_type": "markdown",
   "id": "4e51dab4-f72c-4b27-996f-d610bb7055f4",
   "metadata": {},
   "source": [
    "## Introduction"
   ]
  },
  {
   "cell_type": "markdown",
   "id": "d3e574fd-0584-4da9-8e42-fdf05f722e43",
   "metadata": {},
   "source": [
    "Some explanatory text could be standing here."
   ]
  },
  {
   "cell_type": "markdown",
   "id": "015ba447-88a1-46d5-9126-b17ca6773cec",
   "metadata": {},
   "source": [
    "---"
   ]
  },
  {
   "cell_type": "markdown",
   "id": "09a11f40-cb85-4968-8d45-72882b192519",
   "metadata": {},
   "source": [
    "## Application"
   ]
  },
  {
   "cell_type": "markdown",
   "id": "c7c06a7a-f0a4-4e1f-b390-f7f11e08d795",
   "metadata": {},
   "source": [
    "Step-by-step walkthrough of working with the created data model in Python."
   ]
  },
  {
   "cell_type": "markdown",
   "id": "e0d18553-a29e-4fb8-9687-3df8e15384a1",
   "metadata": {},
   "source": [
    "### Importing neccessary packages"
   ]
  },
  {
   "cell_type": "code",
   "execution_count": 1,
   "id": "1ad6f8ae-dc13-42f6-a2a5-72da44eac031",
   "metadata": {},
   "outputs": [],
   "source": [
    "from datetime import datetime"
   ]
  },
  {
   "cell_type": "code",
   "execution_count": 2,
   "id": "ecab558f-2be3-4f5b-a28e-eb1098a02bcd",
   "metadata": {},
   "outputs": [],
   "source": [
    "from sdRDM import DataModel"
   ]
  },
  {
   "cell_type": "markdown",
   "id": "985ab5f8-d12f-4df8-a0b3-3c0510a056ea",
   "metadata": {},
   "source": [
    "### Loading the data model from GitHub"
   ]
  },
  {
   "cell_type": "code",
   "execution_count": 3,
   "id": "3c0a81ca-849a-43eb-a4d5-b057e6bcdd7f",
   "metadata": {},
   "outputs": [],
   "source": [
    "datamodel_b07 = \"https://github.com/FAIRChemistry/datamodel_b07.git\""
   ]
  },
  {
   "cell_type": "code",
   "execution_count": 4,
   "id": "22707eea-fc0d-4c76-91cf-186531d37075",
   "metadata": {},
   "outputs": [
    {
     "name": "stderr",
     "output_type": "stream",
     "text": [
      "Klone nach '/var/folders/0f/gvqwxk9d46z_cz6w3zg6yn1m0000gn/T/tmpsa1mstv1'...\n"
     ]
    }
   ],
   "source": [
    "model = DataModel.from_git(\n",
    "    url=datamodel_b07,\n",
    ")"
   ]
  },
  {
   "cell_type": "markdown",
   "id": "a9a5f8cf-0711-461c-9771-245ead5ed8a8",
   "metadata": {},
   "source": [
    "### Working with the data model"
   ]
  },
  {
   "cell_type": "code",
   "execution_count": 5,
   "id": "55b741d0-32a1-4c2d-b995-661b92779de6",
   "metadata": {},
   "outputs": [],
   "source": [
    "new_dataset = model.Dataset(\n",
    "    id=\"000\",\n",
    "    name=\"Test\",\n",
    "    date=datetime.today(),\n",
    "    license=\"MIT license\",\n",
    "    synthesis={\"yield_\": 0.0},\n",
    ")"
   ]
  },
  {
   "cell_type": "code",
   "execution_count": 6,
   "id": "6e1b379f-780d-4aa9-864d-20caf1d5c9d6",
   "metadata": {},
   "outputs": [
    {
     "name": "stdout",
     "output_type": "stream",
     "text": [
      "__source__:\n",
      "  commit: d3035f6aee518674183b414db076d90ee80f8a54\n",
      "  repo: https://github.com/FAIRChemistry/datamodel_b07.git\n",
      "  root: Dataset\n",
      "  url: https://github.com/FAIRChemistry/datamodel_b07/tree/d3035f6aee518674183b414db076d90ee80f8a54\n",
      "date: 2022-08-18 19:14:48.439146\n",
      "id: '000'\n",
      "license: MIT license\n",
      "name: Test\n",
      "synthesis:\n",
      "  yield_: 0.0\n",
      "\n"
     ]
    }
   ],
   "source": [
    "print(new_dataset.yaml())"
   ]
  }
 ],
 "metadata": {
  "kernelspec": {
   "display_name": "Python [conda env:sdRDM]",
   "language": "python",
   "name": "conda-env-sdRDM-py"
  },
  "language_info": {
   "codemirror_mode": {
    "name": "ipython",
    "version": 3
   },
   "file_extension": ".py",
   "mimetype": "text/x-python",
   "name": "python",
   "nbconvert_exporter": "python",
   "pygments_lexer": "ipython3",
   "version": "3.10.4"
  }
 },
 "nbformat": 4,
 "nbformat_minor": 5
}
